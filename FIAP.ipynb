{
  "nbformat": 4,
  "nbformat_minor": 0,
  "metadata": {
    "colab": {
      "provenance": [],
      "authorship_tag": "ABX9TyP3H1gzz2al5EIdZdNNiis8"
    },
    "kernelspec": {
      "name": "python3",
      "display_name": "Python 3"
    },
    "language_info": {
      "name": "python"
    }
  },
  "cells": [
    {
      "cell_type": "code",
      "execution_count": 1,
      "metadata": {
        "colab": {
          "base_uri": "https://localhost:8080/"
        },
        "id": "CdQ47ddzSnOo",
        "outputId": "86e56c65-db00-42dd-a20f-a60383937a75"
      },
      "outputs": [
        {
          "output_type": "stream",
          "name": "stdout",
          "text": [
            "Digite a nota de satisfação com o atendimento(0 - 100): 50\n",
            "\n",
            "Atendimento Insatisfatório!\n"
          ]
        }
      ],
      "source": [
        "rate_sac = int(input('Digite a nota de satisfação com o atendimento(0 - 100): '))\n",
        "\n",
        "if not 0 <= rate_sac <= 100:\n",
        "     print('\\nVocê digitou um número fora da faixa de avaliação(0 - 100)!')\n",
        "elif rate_sac >= 90:\n",
        "    print('\\nAtendimento de Qualidade!')\n",
        "elif rate_sac >= 70:\n",
        "    print('\\nAtendimento Neutro!')\n",
        "else:\n",
        "    print('\\nAtendimento Insatisfatório!')\n"
      ]
    }
  ]
}